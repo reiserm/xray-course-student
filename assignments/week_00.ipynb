{
 "cells": [
  {
   "cell_type": "markdown",
   "id": "forty-relative",
   "metadata": {},
   "source": [
    "# Introduction to Jupyter Notebooks"
   ]
  },
  {
   "cell_type": "markdown",
   "id": "talented-criminal",
   "metadata": {},
   "source": [
    "In this assignment you will learn how to create basic plots with Python and how to use Jupyter notebooks. \n",
    "\n",
    "The main building block of a Jupyter notebook is a *cell*. A cell can contain different types of content like Markdown text, program code, or raw text. To compile or execute a cell you can use *Shift + Enter* or click the *>Run* button in the toolbar above. To switch between different types of content use the dropdown menu in the toolbar.\n",
    "\n",
    "This cell (the one you are currently reading) is a Mardown cell. Try to double click on it to enter the *editing mode* mode of the cell. Don't worry you did not break anything. Run it (*Shift + Enter*) to compile the text again. \n",
    "\n",
    "The next cell is a Python code cell. Run it to execute the Python code."
   ]
  },
  {
   "cell_type": "code",
   "execution_count": null,
   "id": "different-sector",
   "metadata": {},
   "outputs": [],
   "source": [
    "print('Hello world.')"
   ]
  },
  {
   "cell_type": "markdown",
   "id": "advised-publicity",
   "metadata": {},
   "source": [
    "Learning a programming language can be a bit intimidating, but do not worry. You will get used to it pretty quickly. Do not hesitate to ask questions in the seminars or work together with your colleagues. To get the most out of these exercises try to solve the tasks yourself and revisit sections that are unclear to you instead of blindly copying or running these notebooks.\n",
    "\n",
    "Every Python program starts with importing packages or libraries. The command to do so is `import`. We will import `numpy` (see the [docs](https://numpy.org/)) a package that provides numerical operations and allows to work with arrays (matrices). You will see that we use `import numpy as np` which imports the numpy package and makes it accessible via `np`. This is kind of a convention and reduces the amount of code you have to write. In principle, you can use another abbreviation. The second package is `matplotlib` a standard package to create figures.\n",
    "\n",
    "The nice thing about Jupyter notebooks is that you can figures directly in the notebook. Jupyter provides so called magic functions that enable certain features in the notebook. For the time being we will use only the `%matplotlib inline` function to display images."
   ]
  },
  {
   "cell_type": "code",
   "execution_count": null,
   "id": "documentary-click",
   "metadata": {},
   "outputs": [],
   "source": [
    "import numpy as np\n",
    "from matplotlib import pyplot as plt\n",
    "%matplotlib inline"
   ]
  },
  {
   "cell_type": "markdown",
   "id": "parental-stephen",
   "metadata": {},
   "source": [
    "## Your First Graph"
   ]
  },
  {
   "cell_type": "markdown",
   "id": "global-motivation",
   "metadata": {},
   "source": [
    "Now let create a simple graph. We would like to plot a sine and cosine function from $0$ to $2\\pi$. To do so we create a vector of $100$ evenly spaced points and then compute the sine and cosine functions."
   ]
  },
  {
   "cell_type": "code",
   "execution_count": null,
   "id": "flush-knife",
   "metadata": {},
   "outputs": [],
   "source": [
    "x = np.linspace(0, 2*np.pi, 100)\n",
    "print(\"The length of the vector x is:\", len(x))\n",
    "\n",
    "s = np.sin(x)\n",
    "c = np.cos(x)"
   ]
  },
  {
   "cell_type": "markdown",
   "id": "federal-saturn",
   "metadata": {},
   "source": [
    "To create a graph we call `plt.subplots`. This command returns two objects: the figure and the axes. The variable names we use to store those values are `fig` and `ax`, but in general they can be chosen arbitrarily. \n",
    "\n",
    "Python is an *object oriented* programming language which means *attributes* and *methods* can be associated with an object. Both are accessible by the `.`(dot) operator. It is much less complicated than it sounds, let's look at the follwing example where we use the `plot` method to actually plot our data on the previously created axes."
   ]
  },
  {
   "cell_type": "code",
   "execution_count": null,
   "id": "lucky-violin",
   "metadata": {},
   "outputs": [],
   "source": [
    "fig, ax = plt.subplots()\n",
    "\n",
    "ax.plot(x, s)\n",
    "ax.plot(x, c)"
   ]
  },
  {
   "cell_type": "markdown",
   "id": "offensive-action",
   "metadata": {},
   "source": [
    "## Functions and For-Loops"
   ]
  },
  {
   "cell_type": "markdown",
   "id": "demanding-handling",
   "metadata": {},
   "source": [
    "Often a functionality we need is not provided by a package and we have to write our own Python function. A Python function starts with the `def` keyword. Let's start for simplicity with a function that should calculate the square of a number. The content of a function is indented (the same goes for *for*-loops, etc.). The indentation substitutes parantheses or brackets to enclose the content of a function.  "
   ]
  },
  {
   "cell_type": "code",
   "execution_count": null,
   "id": "pacific-globe",
   "metadata": {},
   "outputs": [],
   "source": [
    "def square(a):\n",
    "    return a * a\n",
    "\n",
    "b = 3 # this line is not part of the function anymore as it is not indented.\n",
    "\n",
    "print(\"The square of\", b, \"is\", square(b))"
   ]
  },
  {
   "cell_type": "markdown",
   "id": "quantitative-brooklyn",
   "metadata": {},
   "source": [
    "We can now use our new function `square` in a loop to iterate over variables. Let's say we want to calculate the squares of all numbers from $0$ to $4$. The Python function `range(n)` creates `n` integer values starting from $0$. So the largest integer we will get is $4$. Python in general is using $0$ based indexing meaning that the first elment of a list or vector has the index $0$ not $1$ (like in Matlab for instance)."
   ]
  },
  {
   "cell_type": "code",
   "execution_count": null,
   "id": "respiratory-ratio",
   "metadata": {},
   "outputs": [],
   "source": [
    "for x in range(5):\n",
    "    # note the indentation\n",
    "    y = square(x)\n",
    "    print(\"The square of\", x, \"is\", y)\n",
    "print(\"The last number was\", x) # this line is not anymore part of the loop."
   ]
  },
  {
   "cell_type": "markdown",
   "id": "automatic-illustration",
   "metadata": {},
   "source": [
    "# Summary"
   ]
  },
  {
   "cell_type": "markdown",
   "id": "general-detroit",
   "metadata": {},
   "source": [
    "You have learned about some basic features of Python and Jupyter notebooks. In the upcoming programming assignments you will use these and more advanced concepts to make estimations on physical quantities, do simulations, analyze scientific data, etc. "
   ]
  },
  {
   "cell_type": "code",
   "execution_count": null,
   "id": "distant-humanity",
   "metadata": {},
   "outputs": [],
   "source": []
  }
 ],
 "metadata": {
  "hide_input": false,
  "kernelspec": {
   "display_name": "xray-course",
   "language": "python",
   "name": "xray-course"
  },
  "language_info": {
   "codemirror_mode": {
    "name": "ipython",
    "version": 3
   },
   "file_extension": ".py",
   "mimetype": "text/x-python",
   "name": "python",
   "nbconvert_exporter": "python",
   "pygments_lexer": "ipython3",
   "version": "3.7.6"
  },
  "toc": {
   "base_numbering": 1,
   "nav_menu": {},
   "number_sections": true,
   "sideBar": true,
   "skip_h1_title": false,
   "title_cell": "Table of Contents",
   "title_sidebar": "Contents",
   "toc_cell": false,
   "toc_position": {},
   "toc_section_display": true,
   "toc_window_display": false
  },
  "varInspector": {
   "cols": {
    "lenName": 16,
    "lenType": 16,
    "lenVar": 40
   },
   "kernels_config": {
    "python": {
     "delete_cmd_postfix": "",
     "delete_cmd_prefix": "del ",
     "library": "var_list.py",
     "varRefreshCmd": "print(var_dic_list())"
    },
    "r": {
     "delete_cmd_postfix": ") ",
     "delete_cmd_prefix": "rm(",
     "library": "var_list.r",
     "varRefreshCmd": "cat(var_dic_list()) "
    }
   },
   "types_to_exclude": [
    "module",
    "function",
    "builtin_function_or_method",
    "instance",
    "_Feature"
   ],
   "window_display": false
  }
 },
 "nbformat": 4,
 "nbformat_minor": 5
}
