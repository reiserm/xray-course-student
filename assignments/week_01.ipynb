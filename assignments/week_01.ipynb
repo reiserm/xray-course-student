{
 "cells": [
  {
   "cell_type": "markdown",
   "id": "forty-relative",
   "metadata": {},
   "source": [
    "# Week 1 - Scattering Cross Section"
   ]
  },
  {
   "cell_type": "markdown",
   "id": "fifty-yacht",
   "metadata": {},
   "source": [
    "**In this programming assignment you will:**\n",
    "* develop a function that computes the scattered intensity,\n",
    "* estimte the scattering intensity und various conditions."
   ]
  },
  {
   "cell_type": "markdown",
   "id": "insured-network",
   "metadata": {},
   "source": [
    "First, we import the packages we want to use"
   ]
  },
  {
   "cell_type": "code",
   "execution_count": null,
   "id": "considered-drama",
   "metadata": {},
   "outputs": [],
   "source": [
    "import numpy as np\n",
    "from matplotlib import pyplot as plt\n",
    "%matplotlib inline"
   ]
  },
  {
   "cell_type": "markdown",
   "id": "terminal-lottery",
   "metadata": {},
   "source": [
    "and define the following constants"
   ]
  },
  {
   "cell_type": "code",
   "execution_count": null,
   "id": "different-sector",
   "metadata": {},
   "outputs": [],
   "source": [
    "NA = 6.022e23  # Avogadro constant: in 1/mol\n",
    "ec = 1.602e-19  # elementary charge in C\n",
    "M_water = 18.015e-3  # molar mass of water in kg/mol\n",
    "eta_water = 0.997e3  # mass density of water at 25 degC in kg/m^3\n",
    "n_water = 33.368e27  # number density of water in 1/m^3\n",
    "mu_water = 1e3  # absorption coefficient of water at 8.4keV in 1/m\n",
    "mcs_water = 1.632  # macroscopic scattering cross-section of water in 1/m"
   ]
  },
  {
   "cell_type": "markdown",
   "id": "judicial-pilot",
   "metadata": {},
   "source": [
    "## 1 - Estimating the Scattering Intensity"
   ]
  },
  {
   "cell_type": "markdown",
   "id": "incoming-boards",
   "metadata": {},
   "source": [
    "In the lecture you learned about the scattering cross-section \n",
    "\n",
    "$$\\frac{d\\sigma}{d\\Omega}$$\n",
    "\n",
    "and during the\n",
    "first assignment this week you calculated the incoming intensity for a \n",
    "scattering experiment with water droplets. During the preparation for such an \n",
    "experiment you will have many discussions with your colleagues and the beamline\n",
    "staff about the optimum setup parameters. Your task is to prepare a first meeting \n",
    "and to estimate the scattering signal of the water peak at $2Å^{-1}$. \n",
    "\n",
    "**Note:** we are using here a constant value of \n",
    "the cross-section at this particular momentum transfer value. In general, the \n",
    "scattering cross-section can be a function of the momentum transfer and the energy.\n",
    "\n",
    "You will implement the function `intensity_out`. The input parameters are explained \n",
    "int the doc-string of the function. It should return the scattered intensity. \n",
    "\n",
    "**Note:** A Python function can have two different types of input arguments. Normal\n",
    "*arguments (arg)* and *keyword arguments (kwargs)*. The former have to be provided \n",
    "and the program will raise an error if one of the *args* is missing. In contrast, \n",
    "*kwargs* hold a default value that will be used when the value is not provided. You \n",
    "will see how it works below. **Important:** *kwargs* always have to be defined after all \n",
    "*args* in the function definition.\n",
    "\n",
    "**We will assume the following parameters:**\n",
    "* droplet size: w=$100\\,\\mu m$,\n",
    "* pixel size: pixs=$50\\,\\mu m$, \n",
    "* sample-detector distance d=$1\\, m$."
   ]
  },
  {
   "cell_type": "code",
   "execution_count": null,
   "id": "dramatic-modern",
   "metadata": {},
   "outputs": [],
   "source": [
    "# TASK: complete the function\n",
    "\n",
    "def intensity_out(I_in, w=100, pixs=50, d=1.):\n",
    "    \"\"\"Calculates the scattered intensity from water droplets.\n",
    "\n",
    "    Args:\n",
    "        I_in (float): the initial intensity.\n",
    "        w (float, optional): the sample (water droplet) thickness in micro meters (um).\n",
    "        pixs (float, optional): the pixel size in um.\n",
    "        d (float, optional): sample to detector distance in meters (m).\n",
    "\n",
    "    Returns: \n",
    "        I_out (float): the scattered intensity per pixel.\n",
    "\n",
    "    \"\"\"\n",
    "    # rescaling the input parameters\n",
    "    w = w * 1e-6\n",
    "    pixs = pixs * 1e-6\n",
    "\n",
    "    ### START CODE HERE ###\n",
    "    delta_omega_pix = 0 \n",
    "    I_out = 0\n",
    "    ### END CODE HERE ###\n",
    "\n",
    "    return I_out"
   ]
  },
  {
   "cell_type": "markdown",
   "id": "horizontal-genealogy",
   "metadata": {},
   "source": [
    "**Run the following cell to test your function.**"
   ]
  },
  {
   "cell_type": "code",
   "execution_count": null,
   "id": "significant-salmon",
   "metadata": {},
   "outputs": [],
   "source": [
    "I_in = 1e10 # Estimated number of incoming photons per pulse\n",
    "I_out = intensity_out(I_in, w=100, pixs=50, d=1.)\n",
    "\n",
    "print(f\"The scattered number of photons per pixel is {round(I_out,3)} in average.\")"
   ]
  },
  {
   "cell_type": "markdown",
   "id": "comparable-receiver",
   "metadata": {},
   "source": [
    "**Expected output:** The scattered number of photons per pixel is 0.041 in average."
   ]
  },
  {
   "cell_type": "markdown",
   "id": "gentle-mission",
   "metadata": {},
   "source": [
    "Note that we calculate here the intensity per pixel. If you want to calculate the\n",
    "average intensity on the entire detector, you would have to multiply with the number\n",
    "of pixels:"
   ]
  },
  {
   "cell_type": "code",
   "execution_count": null,
   "id": "descending-background",
   "metadata": {},
   "outputs": [],
   "source": [
    "npixels = 1000 * 1000\n",
    "I_detector = I_out * npixels\n",
    "\n",
    "print(f\"The scattered number of photons on the detector is {round(I_detector,3)} in average.\")"
   ]
  },
  {
   "cell_type": "markdown",
   "id": "twelve-proposal",
   "metadata": {},
   "source": [
    "## 2 - Optimizing the Setup Parameters"
   ]
  },
  {
   "cell_type": "markdown",
   "id": "european-marking",
   "metadata": {},
   "source": [
    "The performance of a free-electron laser can vary quite strongly. Shortly before \n",
    "the meeting you receive an email from a beamline scientist in which she explains\n",
    "that they are having troubles with the performance of the machine and she tells \n",
    "you that the incoming flux is maximum $10^9$ photons per pulse. You know that the\n",
    "detector has a lower limit of $0.01$ photons per pixel per pulse. Below this limit\n",
    "its technical limitations make your experiment impossible. Use your `intensity_out` \n",
    "function to estimate the scattered intensity with the value from the beamline \n",
    "scientist and check if you are above the threshold."
   ]
  },
  {
   "cell_type": "code",
   "execution_count": null,
   "id": "binding-scheduling",
   "metadata": {},
   "outputs": [],
   "source": [
    "# TASK: input the new parameters\n",
    "\n",
    "### START CODE HERE ###\n",
    "I_in = 0 # Estimated number of incoming photons per pulse\n",
    "### END CODE HERE ###\n",
    "\n",
    "I_out = intensity_out(I_in, w=100, pixs=50, d=1.)\n",
    "\n",
    "print(f\"The scattered number of photons per pixel is {round(I_out,3)} in average.\")"
   ]
  },
  {
   "cell_type": "markdown",
   "id": "missing-protection",
   "metadata": {},
   "source": [
    "You knew of course that the intensity is proportional to the incoming flux and \n",
    "expected a factor of ten less scattering intensity (congrats your function seems\n",
    "work 🎉). You have an idea how to solve the problem. By moving the detector closer \n",
    "to the sample. You know that the closest possible distance is $30\\,\\mathrm{cm}$.\n",
    "\n",
    "To convince your colleagues that the experiment is still possible \n",
    "you want to make a plot and show the scattered intensity as a function \n",
    "of the sample-detector distance. To create a vector of evenly spaced values, \n",
    "you can use Numpy's `linspace` function:\n",
    "\n",
    "```python\n",
    "distances = np.linspace(start, stop, npoints)\n",
    "```\n",
    "\n",
    "Define also the `threshold` variable to plot the lower intensity threshold."
   ]
  },
  {
   "cell_type": "code",
   "execution_count": null,
   "id": "quarterly-dressing",
   "metadata": {},
   "outputs": [],
   "source": [
    "# TASK: input values and complete code\n",
    "\n",
    "### START CODE HERE ###\n",
    "threshold = 0\n",
    "I_in = 0\n",
    "\n",
    "distances = 0\n",
    "I_out = intensity_out(I_in, d=distances)\n",
    "### END CODE HERE ###\n",
    "\n",
    "# creating the figure and axes\n",
    "fig, ax = plt.subplots()\n",
    "\n",
    "# plot the data\n",
    "ax.plot(distances, I_out)\n",
    "\n",
    "# we draw a horizontal line to mark the intensity threshold\n",
    "ax.hlines(threshold, distances.min(), distances.max(), 'k', ls='-.')\n",
    "\n",
    "# setting up the axes style\n",
    "ax.minorticks_on()\n",
    "ax.set_ylabel(\"average intensity per pixel (photons)\")\n",
    "ax.set_xlabel(\"sample detector distance (m)\")"
   ]
  },
  {
   "cell_type": "markdown",
   "id": "stylish-charter",
   "metadata": {},
   "source": [
    "**TASK:** What can you learn from your graph? Write a short explanation (double\n",
    "click on this cell and modify the content under *Explanation*).\n",
    "\n",
    "**Explanation:**\n",
    "\n",
    "* The intensity per pixel increases when we move the detector closer to the sample.\n",
    "* Above a distance of about 0.64m the intensity drops below the threshold."
   ]
  },
  {
   "cell_type": "markdown",
   "id": "modified-librarian",
   "metadata": {},
   "source": [
    "Designing an X-ray scattering experiment is a complex problem with a lot of \n",
    "parameters with individual constraints. One of your colleagues is estimating a\n",
    "different quantity and suggests to reduce the droplet size to $20\\,\\mu m$ in \n",
    "favor of that quantity. You want to add the droplet size to your graph and \n",
    "decide to plot the curve from the previous graph for different droplet sizes \n",
    "between $20\\,\\mu m$ and $100\\,\\mu m$ (choose a hand full of reasonable values). \n",
    "\n",
    "You will use a `for`-loop to iterate over the droplet sizes and add a curve to \n",
    "the graph each iteration. Define a `list` of droplet sizes. A list in Python is\n",
    "a comma separated list of objects (here numbers) enclosed by brackets:\n",
    "\n",
    "```python\n",
    "my_list = [1000, 0.1, 5]\n",
    "```"
   ]
  },
  {
   "cell_type": "code",
   "execution_count": null,
   "id": "distributed-gospel",
   "metadata": {},
   "outputs": [],
   "source": [
    "# TASK: input values\n",
    "\n",
    "### START CODE HERE ###\n",
    "threshold = 0\n",
    "I_in = 0\n",
    "droplet_sizes = [0, 0, 0,]\n",
    "### END CODE HERE ###\n",
    "\n",
    "# create the figures and axes\n",
    "fig, ax = plt.subplots()\n",
    "\n",
    "# plot the data\n",
    "for droplet_size in droplet_sizes:\n",
    "    I_out = intensity_out(I_in, w=droplet_size, d=distances)\n",
    "    ax.plot(distances, I_out, label=f\"${droplet_size}$\")\n",
    "\n",
    "# we draw a horizontal line to mark the intensity threshold\n",
    "ax.hlines(threshold, distances.min(), distances.max(), 'k', ls='-.')\n",
    "\n",
    "# add the legend\n",
    "ax.legend(title='droplet size in $\\mu m$')\n",
    "\n",
    "# setting up the axes style\n",
    "ax.minorticks_on()\n",
    "ax.set_ylabel(\"average intensity per pixel (photons)\")\n",
    "ax.set_xlabel(\"sample detector distance (m)\")"
   ]
  },
  {
   "cell_type": "markdown",
   "id": "disturbed-punishment",
   "metadata": {},
   "source": [
    "**TASK:** What can you learn from your graph? Write a short explanation (double\n",
    "click on this cell and modify the content under *Explanation*).\n",
    "\n",
    "**Explanation:**\n",
    "\n",
    "* With 20um droplets the scattering intensity is too low.\n",
    "* 40um would work with a sample-detector distance of 40cm."
   ]
  },
  {
   "cell_type": "markdown",
   "id": "automatic-illustration",
   "metadata": {},
   "source": [
    "# 3 - Summary"
   ]
  },
  {
   "cell_type": "markdown",
   "id": "general-detroit",
   "metadata": {},
   "source": [
    "You wrote your first Python function to estimate the scattering intensity of a\n",
    "complex experiment at a free-electron laser. You used this function to create \n",
    "various plots to visualize the effect of different parameters on the scattering\n",
    "intensity. \n",
    "\n",
    "Estimations like you did in this assignment are very useful and discussed regularly\n",
    "not only in preparation for experiments but also during the data analysis. Making \n",
    "plots, also of rather simple relations, helps a lot to get a better feeling for the\n",
    "influence and the importance of certain parameters on the experiment."
   ]
  }
 ],
 "metadata": {
  "hide_input": false,
  "kernelspec": {
   "display_name": "xray-course",
   "language": "python",
   "name": "xray-course"
  },
  "language_info": {
   "codemirror_mode": {
    "name": "ipython",
    "version": 3
   },
   "file_extension": ".py",
   "mimetype": "text/x-python",
   "name": "python",
   "nbconvert_exporter": "python",
   "pygments_lexer": "ipython3",
   "version": "3.7.6"
  },
  "toc": {
   "base_numbering": 1,
   "nav_menu": {},
   "number_sections": false,
   "sideBar": true,
   "skip_h1_title": false,
   "title_cell": "Table of Contents",
   "title_sidebar": "Contents",
   "toc_cell": false,
   "toc_position": {},
   "toc_section_display": true,
   "toc_window_display": false
  },
  "varInspector": {
   "cols": {
    "lenName": 16,
    "lenType": 16,
    "lenVar": 40
   },
   "kernels_config": {
    "python": {
     "delete_cmd_postfix": "",
     "delete_cmd_prefix": "del ",
     "library": "var_list.py",
     "varRefreshCmd": "print(var_dic_list())"
    },
    "r": {
     "delete_cmd_postfix": ") ",
     "delete_cmd_prefix": "rm(",
     "library": "var_list.r",
     "varRefreshCmd": "cat(var_dic_list()) "
    }
   },
   "types_to_exclude": [
    "module",
    "function",
    "builtin_function_or_method",
    "instance",
    "_Feature"
   ],
   "window_display": false
  }
 },
 "nbformat": 4,
 "nbformat_minor": 5
}
